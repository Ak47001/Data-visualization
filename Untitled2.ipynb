{
 "cells": [
  {
   "cell_type": "code",
   "execution_count": 1,
   "metadata": {
    "collapsed": true
   },
   "outputs": [],
   "source": [
    "import numpy as np\n",
    "import pandas as pd"
   ]
  },
  {
   "cell_type": "code",
   "execution_count": 43,
   "metadata": {},
   "outputs": [],
   "source": [
    "df=pd.read_csv(\"Accident_Cities.csv\")\n",
    "df=df.fillna(0)"
   ]
  },
  {
   "cell_type": "code",
   "execution_count": 44,
   "metadata": {},
   "outputs": [
    {
     "data": {
      "text/plain": [
       "Index(['Name of City', 'Total number of Fatal Accidents - 2011',\n",
       "       'All Accidents - 2011', 'Persons Killed - 2011',\n",
       "       'Persons Injured - 2011', 'Total number of Fatal Accidents - 2012',\n",
       "       'All Accidents - 2012', 'Persons Killed - 2012',\n",
       "       'Persons Injured - 2012', 'Fatal Accidents - 2013',\n",
       "       'Total Accidents - 2013', 'Killed - 2013', 'Injured - 2013',\n",
       "       'Severity - 2013', 'Fatal Accidents - 2014',\n",
       "       'Greviously Injured Accidents - 2014', 'Minor Accidents - 2014',\n",
       "       'Non-Injurey Accidents - 2014', 'Total Accidents - 2014',\n",
       "       'Killed - 2014', 'Injured - 2014', 'Severity - 2014',\n",
       "       'Fatal Accidents - 2015', 'Greviously Injured Accidents - 2015',\n",
       "       'Minor Accidents - 2015', 'Non-Injurey Accidents - 2015',\n",
       "       'Total Accidents - 2015', 'Killed - 2015', 'Injured - 2015',\n",
       "       'Severity - 2015'],\n",
       "      dtype='object')"
      ]
     },
     "execution_count": 44,
     "metadata": {},
     "output_type": "execute_result"
    }
   ],
   "source": [
    "df.columns"
   ]
  },
  {
   "cell_type": "code",
   "execution_count": 29,
   "metadata": {},
   "outputs": [
    {
     "data": {
      "text/plain": [
       "7         Delhi\n",
       "27       Mumbai\n",
       "4     Bengaluru\n",
       "Name: Name of City, dtype: object"
      ]
     },
     "execution_count": 29,
     "metadata": {},
     "output_type": "execute_result"
    }
   ],
   "source": [
    "#1\n",
    "df.sort_values(['Persons Injured - 2011','Persons Injured - 2012','Injured - 2013','Injured - 2014','Injured - 2015'],ascending=False)['Name of City'].head(3)\n",
    "\n",
    "        "
   ]
  },
  {
   "cell_type": "markdown",
   "metadata": {},
   "source": []
  },
  {
   "cell_type": "code",
   "execution_count": 65,
   "metadata": {},
   "outputs": [
    {
     "data": {
      "text/plain": [
       "array([ 9355.,  8700.,  8628.])"
      ]
     },
     "execution_count": 65,
     "metadata": {},
     "output_type": "execute_result"
    }
   ],
   "source": [
    "k=list(df['Persons Injured - 2011'])\n",
    "m=list(df['Persons Injured - 2012'])\n",
    "g=list(df['Injured - 2013'])\n",
    "p=list(df['Injured - 2014'])\n",
    "q=list(df['Injured - 2015'])\n",
    "for i in m:\n",
    "    k.append(i)\n",
    "for i in g:\n",
    "    k.append(i)\n",
    "for i in p:\n",
    "    k.append(i)\n",
    "for i in q:\n",
    "    k.append(i)\n",
    "p=np.sort(k)[::-1][0:3]\n",
    "p"
   ]
  },
  {
   "cell_type": "code",
   "execution_count": 97,
   "metadata": {},
   "outputs": [],
   "source": [
    "#1\n",
    "#for i in ['Persons Injured - 2011','Persons Injured - 2012','Injured - 2013','Injured - 2014','Injured - 2015']:\n",
    " #       for j in p:\n",
    "  #          print(df['Name of City'][df[i]==j])\n",
    "    "
   ]
  },
  {
   "cell_type": "code",
   "execution_count": 68,
   "metadata": {},
   "outputs": [
    {
     "data": {
      "text/plain": [
       "7         Delhi\n",
       "27       Mumbai\n",
       "4     Bengaluru\n",
       "Name: Name of City, dtype: object"
      ]
     },
     "execution_count": 68,
     "metadata": {},
     "output_type": "execute_result"
    }
   ],
   "source": [
    "#2\n",
    "df.sort_values(['Persons Injured - 2011','Persons Injured - 2012'],ascending=False)['Name of City'].head(3)"
   ]
  },
  {
   "cell_type": "code",
   "execution_count": 69,
   "metadata": {},
   "outputs": [
    {
     "data": {
      "text/plain": [
       "Index(['Name of City', 'Total number of Fatal Accidents - 2011',\n",
       "       'All Accidents - 2011', 'Persons Killed - 2011',\n",
       "       'Persons Injured - 2011', 'Total number of Fatal Accidents - 2012',\n",
       "       'All Accidents - 2012', 'Persons Killed - 2012',\n",
       "       'Persons Injured - 2012', 'Fatal Accidents - 2013',\n",
       "       'Total Accidents - 2013', 'Killed - 2013', 'Injured - 2013',\n",
       "       'Severity - 2013', 'Fatal Accidents - 2014',\n",
       "       'Greviously Injured Accidents - 2014', 'Minor Accidents - 2014',\n",
       "       'Non-Injurey Accidents - 2014', 'Total Accidents - 2014',\n",
       "       'Killed - 2014', 'Injured - 2014', 'Severity - 2014',\n",
       "       'Fatal Accidents - 2015', 'Greviously Injured Accidents - 2015',\n",
       "       'Minor Accidents - 2015', 'Non-Injurey Accidents - 2015',\n",
       "       'Total Accidents - 2015', 'Killed - 2015', 'Injured - 2015',\n",
       "       'Severity - 2015'],\n",
       "      dtype='object')"
      ]
     },
     "execution_count": 69,
     "metadata": {},
     "output_type": "execute_result"
    }
   ],
   "source": [
    "df.columns"
   ]
  },
  {
   "cell_type": "code",
   "execution_count": 71,
   "metadata": {},
   "outputs": [
    {
     "data": {
      "text/plain": [
       "Persons Injured - 2011    7226.0\n",
       "Persons Injured - 2012    8628.0\n",
       "dtype: float64"
      ]
     },
     "execution_count": 71,
     "metadata": {},
     "output_type": "execute_result"
    }
   ],
   "source": [
    "#df[['Persons Injured - 2011','Persons Injured - 2012']].max(axis=0)"
   ]
  },
  {
   "cell_type": "code",
   "execution_count": 96,
   "metadata": {},
   "outputs": [],
   "source": [
    "#df[['Persons Injured - 2011','Persons Injured - 2012','Injured - 2013','Injured - 2014','Injured - 2015']].max(axis=0)\n",
    "\n"
   ]
  },
  {
   "cell_type": "code",
   "execution_count": 95,
   "metadata": {},
   "outputs": [],
   "source": [
    "#df['Name of City'][df['Injured - 2013']==8700]"
   ]
  },
  {
   "cell_type": "code",
   "execution_count": 77,
   "metadata": {},
   "outputs": [
    {
     "data": {
      "text/plain": [
       "Index(['Name of City', 'Total number of Fatal Accidents - 2011',\n",
       "       'All Accidents - 2011', 'Persons Killed - 2011',\n",
       "       'Persons Injured - 2011', 'Total number of Fatal Accidents - 2012',\n",
       "       'All Accidents - 2012', 'Persons Killed - 2012',\n",
       "       'Persons Injured - 2012', 'Fatal Accidents - 2013',\n",
       "       'Total Accidents - 2013', 'Killed - 2013', 'Injured - 2013',\n",
       "       'Severity - 2013', 'Fatal Accidents - 2014',\n",
       "       'Greviously Injured Accidents - 2014', 'Minor Accidents - 2014',\n",
       "       'Non-Injurey Accidents - 2014', 'Total Accidents - 2014',\n",
       "       'Killed - 2014', 'Injured - 2014', 'Severity - 2014',\n",
       "       'Fatal Accidents - 2015', 'Greviously Injured Accidents - 2015',\n",
       "       'Minor Accidents - 2015', 'Non-Injurey Accidents - 2015',\n",
       "       'Total Accidents - 2015', 'Killed - 2015', 'Injured - 2015',\n",
       "       'Severity - 2015'],\n",
       "      dtype='object')"
      ]
     },
     "execution_count": 77,
     "metadata": {},
     "output_type": "execute_result"
    }
   ],
   "source": [
    "df.columns"
   ]
  },
  {
   "cell_type": "code",
   "execution_count": 120,
   "metadata": {},
   "outputs": [
    {
     "name": "stdout",
     "output_type": "stream",
     "text": [
      "7     2007.0\n",
      "4      689.0\n",
      "27     539.0\n",
      "30     507.0\n",
      "10     495.0\n",
      "Name: Total number of Fatal Accidents - 2011, dtype: float64\n"
     ]
    },
    {
     "data": {
      "image/png": "[encoded data removed]",
      "text/plain": [
       "<matplotlib.figure.Figure at 0x7f43f80fafd0>"
      ]
     },
     "metadata": {},
     "output_type": "display_data"
    }
   ],
   "source": [
    "#3\n",
    "#df['Name of City'][df['Total number of Fatal Accidents - 2011','Total number of Fatal Accidents-2012','Fatal Accidents -2013','Fatal Accidents - 2014','Fatal Accidents-2015']].max(axis=0)\n",
    "#for i in ['Total number of Fatal Accidents - 2011','Total number of Fatal Accidents - 2012','Fatal Accidents - 2013','Fatal Accidents - 2014','Fatal Accidents - 2015']:\n",
    "#    print(df['Name of City'][df[i]==np.max(df[i])])\n",
    "g=df.sort_values(['Total number of Fatal Accidents - 2011','Total number of Fatal Accidents - 2012','Fatal Accidents - 2013','Fatal Accidents - 2014','Fatal Accidents - 2015'],ascending=False)['Name of City'].head(5)\n",
    "import matplotlib.pyplot as plt\n",
    "x=np.arange(5)\n",
    "y=df.sort_values(['Total number of Fatal Accidents - 2011','Total number of Fatal Accidents - 2012','Fatal Accidents - 2013','Fatal Accidents - 2014','Fatal Accidents - 2015'],ascending=False)[['Total number of Fatal Accidents - 2011','Total number of Fatal Accidents - 2012','Fatal Accidents - 2013','Fatal Accidents - 2014','Fatal Accidents - 2015']].head(5)\n",
    "y1=y['Total number of Fatal Accidents - 2011']\n",
    "y2=y['Total number of Fatal Accidents - 2012']\n",
    "y3=y['Fatal Accidents - 2013']\n",
    "y4=y['Fatal Accidents - 2014']\n",
    "y5=y['Fatal Accidents - 2015']\n",
    "print(y1)\n",
    "plt.plot(x,y1,color=\"red\",label=\"2011\")\n",
    "plt.plot(x,y2,color=\"green\",label=\"2012\")\n",
    "plt.plot(x,y3,color=\"blue\",label=\"2013\")\n",
    "plt.plot(x,y4,color=\"orange\",label=\"2014\")\n",
    "plt.plot(x,y5,color=\"black\",label=\"2015\")\n",
    "plt.legend()\n",
    "plt.xlim(0,5)\n",
    "plt.xticks([0,1,2,3,4],g)\n",
    "plt.ylim(100,2000)\n",
    "plt.xlabel(\"City\")\n",
    "plt.ylabel(\"over speed accident\")\n",
    "plt.show()\n"
   ]
  },
  {
   "cell_type": "code",
   "execution_count": 121,
   "metadata": {},
   "outputs": [
    {
     "data": {
      "text/plain": [
       "Index(['Name of City', 'Total number of Fatal Accidents - 2011',\n",
       "       'All Accidents - 2011', 'Persons Killed - 2011',\n",
       "       'Persons Injured - 2011', 'Total number of Fatal Accidents - 2012',\n",
       "       'All Accidents - 2012', 'Persons Killed - 2012',\n",
       "       'Persons Injured - 2012', 'Fatal Accidents - 2013',\n",
       "       'Total Accidents - 2013', 'Killed - 2013', 'Injured - 2013',\n",
       "       'Severity - 2013', 'Fatal Accidents - 2014',\n",
       "       'Greviously Injured Accidents - 2014', 'Minor Accidents - 2014',\n",
       "       'Non-Injurey Accidents - 2014', 'Total Accidents - 2014',\n",
       "       'Killed - 2014', 'Injured - 2014', 'Severity - 2014',\n",
       "       'Fatal Accidents - 2015', 'Greviously Injured Accidents - 2015',\n",
       "       'Minor Accidents - 2015', 'Non-Injurey Accidents - 2015',\n",
       "       'Total Accidents - 2015', 'Killed - 2015', 'Injured - 2015',\n",
       "       'Severity - 2015'],\n",
       "      dtype='object')"
      ]
     },
     "execution_count": 121,
     "metadata": {},
     "output_type": "execute_result"
    }
   ],
   "source": [
    "df.columns"
   ]
  },
  {
   "cell_type": "code",
   "execution_count": 139,
   "metadata": {},
   "outputs": [
    {
     "data": {
      "image/png": "[encoded data removed]",
      "text/plain": [
       "<matplotlib.figure.Figure at 0x7f43f7ffe128>"
      ]
     },
     "metadata": {},
     "output_type": "display_data"
    }
   ],
   "source": [
    "j=df[(df['Name of City']=='Bengaluru') | (df['Name of City']=='Delhi') |(df['Name of City']=='Mumbai')|(df['Name of City']=='Kolkata')|(df['Name of City']=='Lucknow')]\n",
    "y1=j['Persons Killed - 2011']\n",
    "y2=j['Persons Killed - 2012']\n",
    "y3=j['Killed - 2013']\n",
    "y4=j['Killed - 2014']\n",
    "y5=j['Killed - 2015']\n",
    "x=np.arange(5)\n",
    "plt.plot(x,y1)\n",
    "plt.plot(x,y2)\n",
    "plt.plot(x,y3)\n",
    "plt.plot(x,y4)\n",
    "plt.plot(x,y5)\n",
    "plt.show()\n",
    "\n",
    "\n",
    "\n"
   ]
  },
  {
   "cell_type": "code",
   "execution_count": null,
   "metadata": {
    "collapsed": true
   },
   "outputs": [],
   "source": []
  }
 ],
 "metadata": {
  "kernelspec": {
   "display_name": "Python 3",
   "language": "python",
   "name": "python3"
  },
  "language_info": {
   "codemirror_mode": {
    "name": "ipython",
    "version": 3
   },
   "file_extension": ".py",
   "mimetype": "text/x-python",
   "name": "python",
   "nbconvert_exporter": "python",
   "pygments_lexer": "ipython3",
   "version": "3.6.3"
  }
 },
 "nbformat": 4,
 "nbformat_minor": 2
}
