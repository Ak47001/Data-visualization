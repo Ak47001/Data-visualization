{
 "cells": [
  {
   "cell_type": "code",
   "execution_count": 16,
   "metadata": {
    "collapsed": true
   },
   "outputs": [],
   "source": [
    "import numpy as np\n",
    "import pandas as pd\n",
    "import matplotlib.pyplot as plt"
   ]
  },
  {
   "cell_type": "code",
   "execution_count": 2,
   "metadata": {
    "collapsed": true
   },
   "outputs": [],
   "source": [
    "df=pd.read_csv('oil_reserves.csv')"
   ]
  },
  {
   "cell_type": "code",
   "execution_count": 3,
   "metadata": {},
   "outputs": [
    {
     "data": {
      "text/plain": [
       "Index(['Region', 'Country/ Region', '2010', '2011', '2012', '2013', '2014',\n",
       "       '2015', '2016'],\n",
       "      dtype='object')"
      ]
     },
     "execution_count": 3,
     "metadata": {},
     "output_type": "execute_result"
    }
   ],
   "source": [
    "df.columns"
   ]
  },
  {
   "cell_type": "code",
   "execution_count": 4,
   "metadata": {
    "collapsed": true
   },
   "outputs": [],
   "source": [
    "#Which region has max oil reserves from 2014 to 2016?\n",
    "year1=['2014','2015','2016']\n",
    "df['tot1']=df.loc[:,year1].sum(axis=1)"
   ]
  },
  {
   "cell_type": "code",
   "execution_count": 55,
   "metadata": {},
   "outputs": [
    {
     "data": {
      "text/plain": [
       "7"
      ]
     },
     "execution_count": 55,
     "metadata": {},
     "output_type": "execute_result"
    }
   ],
   "source": [
    "df['Region'][df['tot1']==np.max(df['tot1'])]\n",
    "year2=['2010','2011','2012','2013','2014','2015','2016']\n",
    "k=[]\n",
    "y1=df[year2][df['Country/ Region']=='India'].values\n",
    "y2=df.loc[48,year2]\n",
    "k=y2.values\n",
    "len(k)"
   ]
  },
  {
   "cell_type": "code",
   "execution_count": 60,
   "metadata": {},
   "outputs": [
    {
     "data": {
      "image/png": "[encoded data removed]",
      "text/plain": [
       "<matplotlib.figure.Figure at 0x7fb284af2908>"
      ]
     },
     "metadata": {},
     "output_type": "display_data"
    }
   ],
   "source": [
    "#With suitable visualization show the oil reserves of India from 2010 to 2016.\n",
    "year2=['2010','2011','2012','2013','2014','2015','2016']\n",
    "y1=list(df[year2][df['Country/ Region']=='India'].values)\n",
    "xlabel=list(df.columns[2:])\n",
    "x=[1,2,3,4,5,6,7]\n",
    "#x=x.reshape(1,7)\n",
    "plt.plot(x, k, linestyle=\"dashdot\", marker=\"*\", color=\"blue\", label = 'Oil Reserve of India')\n",
    "#configure  X axes\n",
    "plt.xlim(0,8)\n",
    "plt.xticks(x,year2)\n",
    "\n",
    "#configure  Y axes\n",
    "plt.ylim(3,6)\n",
    "#plt.yticks(y2.values)\n",
    "\n",
    "#labels\n",
    "plt.xlabel(\"year\")\n",
    "plt.ylabel(\"oil reserve\")\n",
    "\n",
    "# add legend\n",
    "plt.legend()\n",
    "\n",
    "#title\n",
    "plt.title('Oil Reserve of India')\n",
    "plt.show()\n"
   ]
  },
  {
   "cell_type": "code",
   "execution_count": 61,
   "metadata": {},
   "outputs": [
    {
     "data": {
      "text/plain": [
       "Index(['Region', 'Country/ Region', '2010', '2011', '2012', '2013', '2014',\n",
       "       '2015', '2016', 'tot1'],\n",
       "      dtype='object')"
      ]
     },
     "execution_count": 61,
     "metadata": {},
     "output_type": "execute_result"
    }
   ],
   "source": [
    "#List the countries having maximum oil reserves in each region.\n",
    "df.columns"
   ]
  },
  {
   "cell_type": "code",
   "execution_count": 71,
   "metadata": {},
   "outputs": [],
   "source": [
    "year2=['2010','2011','2012','2013','2014','2015','2016']\n",
    "df['tot2']=df.loc[:,year1].sum(axis=1)"
   ]
  },
  {
   "cell_type": "code",
   "execution_count": 80,
   "metadata": {},
   "outputs": [
    {
     "name": "stdout",
     "output_type": "stream",
     "text": [
      "39    Libya\n",
      "Name: Country/ Region, dtype: object\n",
      "47    China\n",
      "Name: Country/ Region, dtype: object\n",
      "17    Russian Federation\n",
      "Name: Country/ Region, dtype: object\n",
      "27    Saudi Arabia\n",
      "Name: Country/ Region, dtype: object\n",
      "1    Canada\n",
      "Name: Country/ Region, dtype: object\n",
      "9    Venezuela\n",
      "Name: Country/ Region, dtype: object\n"
     ]
    }
   ],
   "source": [
    "k=df.iloc[:,0]\n",
    "k=np.unique(k)\n",
    "for i in k:\n",
    "    print(df[df['Region']==i].sort_values('tot2',ascending=False)['Country/ Region'].head(1))\n"
   ]
  },
  {
   "cell_type": "code",
   "execution_count": 81,
   "metadata": {},
   "outputs": [
    {
     "data": {
      "text/plain": [
       "Index(['Region', 'Country/ Region', '2010', '2011', '2012', '2013', '2014',\n",
       "       '2015', '2016', 'tot1', 'tot2'],\n",
       "      dtype='object')"
      ]
     },
     "execution_count": 81,
     "metadata": {},
     "output_type": "execute_result"
    }
   ],
   "source": [
    "#Draw suitable visualization which shows the share of oil reserves by each region.\n",
    "df.columns"
   ]
  },
  {
   "cell_type": "code",
   "execution_count": 86,
   "metadata": {},
   "outputs": [
    {
     "data": {
      "text/plain": [
       "[385.38599999999997,\n",
       " 146.481,\n",
       " 471.01300000000003,\n",
       " 2420.7780000000002,\n",
       " 692.886,\n",
       " 988.722]"
      ]
     },
     "execution_count": 86,
     "metadata": {},
     "output_type": "execute_result"
    }
   ],
   "source": [
    "k=df.iloc[:,0]\n",
    "k=np.unique(k)\n",
    "m=[]\n",
    "for i in k:\n",
    "    m.append(df[df['Region']==i]['tot2'].sum())\n",
    "m"
   ]
  },
  {
   "cell_type": "code",
   "execution_count": 90,
   "metadata": {},
   "outputs": [
    {
     "data": {
      "image/png": "[encoded data removed]",
      "text/plain": [
       "<matplotlib.figure.Figure at 0x7fb2849cd8d0>"
      ]
     },
     "metadata": {},
     "output_type": "display_data"
    }
   ],
   "source": [
    "name=k\n",
    "x_pos = [1,2,3,4,5,6]\n",
    "performance = m\n",
    "\n",
    "plt.bar(x_pos, performance)\n",
    "plt.xticks(x_pos, name)\n",
    "plt.xlabel('Region')\n",
    "plt.ylabel('Oil share')\n",
    "plt.title('Region and oil share')\n",
    "\n",
    "plt.show()"
   ]
  },
  {
   "cell_type": "code",
   "execution_count": 91,
   "metadata": {},
   "outputs": [
    {
     "data": {
      "text/plain": [
       "Index(['Region', 'Country/ Region', '2010', '2011', '2012', '2013', '2014',\n",
       "       '2015', '2016', 'tot1', 'tot2'],\n",
       "      dtype='object')"
      ]
     },
     "execution_count": 91,
     "metadata": {},
     "output_type": "execute_result"
    }
   ],
   "source": [
    "#Find the world’s top 5 countries having maximum oil reserves in the 2015. Show their % of share in total oil reserve for the same year.\n",
    "df.columns"
   ]
  },
  {
   "cell_type": "code",
   "execution_count": 95,
   "metadata": {},
   "outputs": [
    {
     "name": "stdout",
     "output_type": "stream",
     "text": [
      "9        Venezuela\n",
      "27    Saudi Arabia\n",
      "1           Canada\n",
      "22            Iran\n",
      "23            Iraq\n",
      "Name: Country/ Region, dtype: object\n"
     ]
    }
   ],
   "source": [
    "k=df.sort_values('2015',ascending=False)['Country/ Region'].head(5)\n",
    "print(k)"
   ]
  },
  {
   "cell_type": "code",
   "execution_count": 93,
   "metadata": {
    "collapsed": true
   },
   "outputs": [],
   "source": [
    "sum1=df['2015'].sum()"
   ]
  },
  {
   "cell_type": "code",
   "execution_count": 98,
   "metadata": {},
   "outputs": [
    {
     "name": "stdout",
     "output_type": "stream",
     "text": [
      "9     300.878\n",
      "27    266.578\n",
      "1     171.512\n",
      "22    158.400\n",
      "23    142.503\n",
      "Name: 2015, dtype: float64\n"
     ]
    }
   ],
   "source": [
    "l=df.sort_values('2015',ascending=False)['2015'].head(5)\n",
    "print(l)\n",
    "m=[]\n",
    "for i in l:\n",
    "    m.append((i/sum1)*100)"
   ]
  },
  {
   "cell_type": "code",
   "execution_count": 101,
   "metadata": {},
   "outputs": [
    {
     "data": {
      "image/png": "[encoded data removed]",
      "text/plain": [
       "<matplotlib.figure.Figure at 0x7fb28eb11e80>"
      ]
     },
     "metadata": {},
     "output_type": "display_data"
    }
   ],
   "source": [
    "# Pie chart, where the slices will be ordered and plotted counter-clockwise:\n",
    "labels =k\n",
    "sizes = m\n",
    "#explode = (0, 0, 0, 0)\n",
    "explode = (0, 0.1, 0, 0,0)  # only \"explode\" the 2nd slice (i.e. 'Hogs')\n",
    "\n",
    "#fig1, ax1 = plt.subplots()\n",
    "plt.pie(sizes, explode=explode, labels=labels, autopct='%1.1f%%',\n",
    "        shadow=True, startangle=135)\n",
    "ax1.axis('equal')  # Equal aspect ratio ensures that pie is drawn as a circle.\n",
    "\n",
    "plt.show()"
   ]
  },
  {
   "cell_type": "code",
   "execution_count": null,
   "metadata": {
    "collapsed": true
   },
   "outputs": [],
   "source": []
  }
 ],
 "metadata": {
  "kernelspec": {
   "display_name": "Python 3",
   "language": "python",
   "name": "python3"
  },
  "language_info": {
   "codemirror_mode": {
    "name": "ipython",
    "version": 3
   },
   "file_extension": ".py",
   "mimetype": "text/x-python",
   "name": "python",
   "nbconvert_exporter": "python",
   "pygments_lexer": "ipython3",
   "version": "3.6.3"
  }
 },
 "nbformat": 4,
 "nbformat_minor": 2
}
